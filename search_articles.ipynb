{
 "cells": [
  {
   "cell_type": "markdown",
   "metadata": {},
   "source": [
    "# Договор дарения"
   ]
  },
  {
   "cell_type": "code",
   "execution_count": 1,
   "metadata": {},
   "outputs": [
    {
     "name": "stdout",
     "output_type": "stream",
     "text": [
      "Файл сохранён: kodex/Статьи дарения.pdf\n"
     ]
    }
   ],
   "source": [
    "from PyPDF2 import PdfReader, PdfWriter\n",
    "\n",
    "# Загрузка исходного PDF\n",
    "input_path = \"kodex/гк2.pdf\"\n",
    "reader = PdfReader(input_path)\n",
    "\n",
    "start_found = False\n",
    "end_found = False\n",
    "writer = PdfWriter()\n",
    "\n",
    "for i in range(43, 49):\n",
    "    writer.add_page(reader.pages[i])\n",
    "\n",
    "# Сохранение результата\n",
    "output_path = \"kodex/Статьи дарения.pdf\"\n",
    "with open(output_path, \"wb\") as output_pdf:\n",
    "    writer.write(output_pdf)\n",
    "\n",
    "print(f\"Файл сохранён: {output_path}\")"
   ]
  },
  {
   "cell_type": "markdown",
   "metadata": {},
   "source": [
    "# Договор займа, расписка"
   ]
  },
  {
   "cell_type": "code",
   "execution_count": 2,
   "metadata": {},
   "outputs": [
    {
     "name": "stdout",
     "output_type": "stream",
     "text": [
      "Файл сохранён: kodex/Статьи займ-расписка.pdf\n"
     ]
    }
   ],
   "source": [
    "from PyPDF2 import PdfReader, PdfWriter\n",
    "\n",
    "# Загрузка исходного PDF\n",
    "input_path = \"kodex/гк2.pdf\"\n",
    "reader = PdfReader(input_path)\n",
    "\n",
    "# Поиск границ текста: от \"Статья 572\" до \"Глава 33. Рента и пожизненное содержание с иждивением\"\n",
    "start_found = False\n",
    "end_found = False\n",
    "writer = PdfWriter()\n",
    "\n",
    "for i in range(115, 121):\n",
    "    writer.add_page(reader.pages[i])\n",
    "\n",
    "# Сохранение результата\n",
    "output_path = \"kodex/Статьи займ-расписка.pdf\"\n",
    "with open(output_path, \"wb\") as output_pdf:\n",
    "    writer.write(output_pdf)\n",
    "\n",
    "print(f\"Файл сохранён: {output_path}\")"
   ]
  },
  {
   "cell_type": "markdown",
   "metadata": {},
   "source": [
    "# Брачный договор"
   ]
  },
  {
   "cell_type": "code",
   "execution_count": 3,
   "metadata": {},
   "outputs": [
    {
     "name": "stdout",
     "output_type": "stream",
     "text": [
      "Файл сохранён: kodex/Статьи брачного договора.pdf\n"
     ]
    }
   ],
   "source": [
    "from PyPDF2 import PdfReader, PdfWriter\n",
    "\n",
    "# Загрузка исходного PDF\n",
    "input_path = \"kodex/Семейный кодекс Российской Федерации  от 29.12.1995 N 223-ФЗ.pdf\"\n",
    "reader = PdfReader(input_path)\n",
    "writer = PdfWriter()\n",
    "\n",
    "# Указание диапазона страниц (15–17 включительно, т.е. индексы 15, 16, 17)\n",
    "for i in range(15, 18):\n",
    "    writer.add_page(reader.pages[i])\n",
    "\n",
    "# Сохранение результата\n",
    "output_path = \"kodex/Статьи брачного договора.pdf\"\n",
    "with open(output_path, \"wb\") as output_pdf:\n",
    "    writer.write(output_pdf)\n",
    "\n",
    "print(f\"Файл сохранён: {output_path}\")"
   ]
  },
  {
   "cell_type": "markdown",
   "metadata": {},
   "source": [
    "# Лицензионный договор"
   ]
  },
  {
   "cell_type": "code",
   "execution_count": 4,
   "metadata": {},
   "outputs": [
    {
     "name": "stdout",
     "output_type": "stream",
     "text": [
      "Файл сохранён: kodex/Статьи договора лицензии.pdf\n"
     ]
    }
   ],
   "source": [
    "from PyPDF2 import PdfReader, PdfWriter\n",
    "\n",
    "# Загрузка исходного PDF\n",
    "input_path = \"kodex/гк4.pdf\"\n",
    "reader = PdfReader(input_path)\n",
    "writer = PdfWriter()\n",
    "\n",
    "# Указание диапазона страниц (15–17 включительно, т.е. индексы 15, 16, 17)\n",
    "for i in range(11, 20):\n",
    "    writer.add_page(reader.pages[i])\n",
    "\n",
    "# Сохранение результата\n",
    "output_path = \"kodex/Статьи договора лицензии.pdf\"\n",
    "with open(output_path, \"wb\") as output_pdf:\n",
    "    writer.write(output_pdf)\n",
    "\n",
    "print(f\"Файл сохранён: {output_path}\")"
   ]
  },
  {
   "cell_type": "markdown",
   "metadata": {},
   "source": [
    "# Договор поручительства"
   ]
  },
  {
   "cell_type": "code",
   "execution_count": 5,
   "metadata": {},
   "outputs": [
    {
     "name": "stdout",
     "output_type": "stream",
     "text": [
      "Файл сохранён: kodex/Статьи договора поручительства.pdf\n"
     ]
    }
   ],
   "source": [
    "from PyPDF2 import PdfReader, PdfWriter\n",
    "\n",
    "# Загрузка исходного PDF\n",
    "input_path = \"kodex/гк1.pdf\"\n",
    "reader = PdfReader(input_path)\n",
    "writer = PdfWriter()\n",
    "\n",
    "# Указание диапазона страниц (15–17 включительно, т.е. индексы 15, 16, 17)\n",
    "for i in range(255, 259):\n",
    "    writer.add_page(reader.pages[i])\n",
    "\n",
    "# Сохранение результата\n",
    "output_path = \"kodex/Статьи договора поручительства.pdf\"\n",
    "with open(output_path, \"wb\") as output_pdf:\n",
    "    writer.write(output_pdf)\n",
    "\n",
    "print(f\"Файл сохранён: {output_path}\")"
   ]
  },
  {
   "cell_type": "markdown",
   "metadata": {},
   "source": [
    "# Договор хранения"
   ]
  },
  {
   "cell_type": "code",
   "execution_count": 6,
   "metadata": {},
   "outputs": [
    {
     "name": "stdout",
     "output_type": "stream",
     "text": [
      "Файл сохранён: kodex/Статьи договора хранения.pdf\n"
     ]
    }
   ],
   "source": [
    "from PyPDF2 import PdfReader, PdfWriter\n",
    "\n",
    "# Загрузка исходного PDF\n",
    "input_path = \"kodex/гк2.pdf\"\n",
    "reader = PdfReader(input_path)\n",
    "writer = PdfWriter()\n",
    "\n",
    "# Указание диапазона страниц (15–17 включительно, т.е. индексы 15, 16, 17)\n",
    "for i in range(158, 175):\n",
    "    writer.add_page(reader.pages[i])\n",
    "\n",
    "# Сохранение результата\n",
    "output_path = \"kodex/Статьи договора хранения.pdf\"\n",
    "with open(output_path, \"wb\") as output_pdf:\n",
    "    writer.write(output_pdf)\n",
    "\n",
    "print(f\"Файл сохранён: {output_path}\")"
   ]
  },
  {
   "cell_type": "markdown",
   "metadata": {},
   "source": [
    "# Договор ссуда"
   ]
  },
  {
   "cell_type": "code",
   "execution_count": 7,
   "metadata": {},
   "outputs": [
    {
     "name": "stdout",
     "output_type": "stream",
     "text": [
      "Файл сохранён: kodex/Статьи договора ссуда.pdf\n"
     ]
    }
   ],
   "source": [
    "from PyPDF2 import PdfReader, PdfWriter\n",
    "\n",
    "# Загрузка исходного PDF\n",
    "input_path = \"kodex/гк2.pdf\"\n",
    "reader = PdfReader(input_path)\n",
    "writer = PdfWriter()\n",
    "\n",
    "# Указание диапазона страниц (15–17 включительно, т.е. индексы 15, 16, 17)\n",
    "for i in range(78, 83):\n",
    "    writer.add_page(reader.pages[i])\n",
    "\n",
    "# Сохранение результата\n",
    "output_path = \"kodex/Статьи договора ссуда.pdf\"\n",
    "with open(output_path, \"wb\") as output_pdf:\n",
    "    writer.write(output_pdf)\n",
    "\n",
    "print(f\"Файл сохранён: {output_path}\")"
   ]
  },
  {
   "cell_type": "markdown",
   "metadata": {},
   "source": [
    "# Договор доверительное управление"
   ]
  },
  {
   "cell_type": "code",
   "execution_count": 8,
   "metadata": {},
   "outputs": [
    {
     "name": "stdout",
     "output_type": "stream",
     "text": [
      "Файл сохранён: kodex/Статьи договора доверительное управление.pdf\n"
     ]
    }
   ],
   "source": [
    "from PyPDF2 import PdfReader, PdfWriter\n",
    "\n",
    "# Загрузка исходного PDF\n",
    "input_path = \"kodex/гк2.pdf\"\n",
    "reader = PdfReader(input_path)\n",
    "writer = PdfWriter()\n",
    "\n",
    "# Указание диапазона страниц (15–17 включительно, т.е. индексы 15, 16, 17)\n",
    "for i in range(203, 210):\n",
    "    writer.add_page(reader.pages[i])\n",
    "\n",
    "# Сохранение результата\n",
    "output_path = \"kodex/Статьи договора доверительное управление.pdf\"\n",
    "with open(output_path, \"wb\") as output_pdf:\n",
    "    writer.write(output_pdf)\n",
    "\n",
    "print(f\"Файл сохранён: {output_path}\")"
   ]
  },
  {
   "cell_type": "markdown",
   "metadata": {},
   "source": [
    "# Договор ГПХ"
   ]
  },
  {
   "cell_type": "code",
   "execution_count": 9,
   "metadata": {},
   "outputs": [
    {
     "name": "stdout",
     "output_type": "stream",
     "text": [
      "Файл сохранён: kodex/Статьи договора Гпх.pdf\n"
     ]
    }
   ],
   "source": [
    "from PyPDF2 import PdfReader, PdfWriter\n",
    "\n",
    "# Загрузка исходного PDF\n",
    "input_path = \"kodex/гк2.pdf\"\n",
    "reader = PdfReader(input_path)\n",
    "writer = PdfWriter()\n",
    "\n",
    "page_ranges = list(range(82, 92)) + list(range(106, 108)) + list(range(201, 204))\n",
    "\n",
    "for i in page_ranges:\n",
    "    writer.add_page(reader.pages[i])\n",
    "\n",
    "# Сохранение результата\n",
    "output_path = \"kodex/Статьи договора Гпх.pdf\"\n",
    "with open(output_path, \"wb\") as output_pdf:\n",
    "    writer.write(output_pdf)\n",
    "\n",
    "print(f\"Файл сохранён: {output_path}\")"
   ]
  },
  {
   "cell_type": "markdown",
   "metadata": {},
   "source": [
    "# Договор найма (работника)"
   ]
  },
  {
   "cell_type": "code",
   "execution_count": 10,
   "metadata": {},
   "outputs": [
    {
     "name": "stdout",
     "output_type": "stream",
     "text": [
      "Файл сохранён: kodex/Статьи договора найма работника.pdf\n"
     ]
    }
   ],
   "source": [
    "from PyPDF2 import PdfReader, PdfWriter\n",
    "\n",
    "# Загрузка исходного PDF\n",
    "input_path = \"kodex/Трудовой кодекс Российской Федерации  от 30.12.2001 N 197-ФЗ.pdf\"\n",
    "reader = PdfReader(input_path)\n",
    "writer = PdfWriter()\n",
    "\n",
    "page_ranges = list(range(48, 52)) + list(range(63, 65)) + list(range(70, 76))\n",
    "\n",
    "for i in page_ranges:\n",
    "    writer.add_page(reader.pages[i])\n",
    "\n",
    "# Сохранение результата\n",
    "output_path = \"kodex/Статьи договора найма работника.pdf\"\n",
    "with open(output_path, \"wb\") as output_pdf:\n",
    "    writer.write(output_pdf)\n",
    "\n",
    "print(f\"Файл сохранён: {output_path}\")"
   ]
  },
  {
   "cell_type": "markdown",
   "metadata": {},
   "source": [
    "# Аренда с правом выкупа"
   ]
  },
  {
   "cell_type": "code",
   "execution_count": 11,
   "metadata": {},
   "outputs": [
    {
     "name": "stdout",
     "output_type": "stream",
     "text": [
      "Файл сохранён: kodex/Статьи договора аренды с правом выкупа.pdf\n"
     ]
    }
   ],
   "source": [
    "from PyPDF2 import PdfReader, PdfWriter\n",
    "\n",
    "# Загрузка исходного PDF\n",
    "input_path = \"kodex/гк2.pdf\"\n",
    "reader = PdfReader(input_path)\n",
    "writer = PdfWriter()\n",
    "\n",
    "for i in range(62, 63):\n",
    "    writer.add_page(reader.pages[i])\n",
    "\n",
    "# Сохранение результата\n",
    "output_path = \"kodex/Статьи договора аренды с правом выкупа.pdf\"\n",
    "with open(output_path, \"wb\") as output_pdf:\n",
    "    writer.write(output_pdf)\n",
    "\n",
    "print(f\"Файл сохранён: {output_path}\")"
   ]
  },
  {
   "cell_type": "markdown",
   "metadata": {},
   "source": [
    "# Аренда оборудования, спецтехники, машиноместа"
   ]
  },
  {
   "cell_type": "code",
   "execution_count": 12,
   "metadata": {},
   "outputs": [
    {
     "name": "stdout",
     "output_type": "stream",
     "text": [
      "Файл сохранён: kodex/Статьи договора аренды оборудования, спецтехники, машиноместа.pdf\n"
     ]
    }
   ],
   "source": [
    "from PyPDF2 import PdfReader, PdfWriter\n",
    "\n",
    "# Загрузка исходного PDF\n",
    "input_path = \"kodex/гк2.pdf\"\n",
    "reader = PdfReader(input_path)\n",
    "writer = PdfWriter()\n",
    "\n",
    "page_ranges = list(range(65, 68)) + list(range(71, 73))\n",
    "\n",
    "for i in page_ranges:\n",
    "    writer.add_page(reader.pages[i])\n",
    "\n",
    "# Сохранение результата\n",
    "output_path = \"kodex/Статьи договора аренды оборудования, спецтехники, машиноместа.pdf\"\n",
    "with open(output_path, \"wb\") as output_pdf:\n",
    "    writer.write(output_pdf)\n",
    "\n",
    "print(f\"Файл сохранён: {output_path}\")"
   ]
  },
  {
   "cell_type": "markdown",
   "metadata": {},
   "source": [
    "# Договор субаренды"
   ]
  },
  {
   "cell_type": "code",
   "execution_count": 13,
   "metadata": {},
   "outputs": [
    {
     "data": {
      "text/plain": [
       "'from PyPDF2 import PdfReader, PdfWriter\\n\\n# Загрузка исходного PDF\\ninput_path = \"kodex/гк2.pdf\"\\nreader = PdfReader(input_path)\\nwriter = PdfWriter()\\n\\nfor i in range(62, 63):\\n    writer.add_page(reader.pages[i])\\n\\n# Сохранение результата\\noutput_path = \"kodex/аренда с правом выкупа.pdf\"\\nwith open(output_path, \"wb\") as output_pdf:\\n    writer.write(output_pdf)\\n\\nprint(f\"Файл сохранён: {output_path}\")'"
      ]
     },
     "execution_count": 13,
     "metadata": {},
     "output_type": "execute_result"
    }
   ],
   "source": [
    "'''from PyPDF2 import PdfReader, PdfWriter\n",
    "\n",
    "# Загрузка исходного PDF\n",
    "input_path = \"kodex/гк2.pdf\"\n",
    "reader = PdfReader(input_path)\n",
    "writer = PdfWriter()\n",
    "\n",
    "for i in range(62, 63):\n",
    "    writer.add_page(reader.pages[i])\n",
    "\n",
    "# Сохранение результата\n",
    "output_path = \"kodex/аренда с правом выкупа.pdf\"\n",
    "with open(output_path, \"wb\") as output_pdf:\n",
    "    writer.write(output_pdf)\n",
    "\n",
    "print(f\"Файл сохранён: {output_path}\")'''"
   ]
  },
  {
   "cell_type": "markdown",
   "metadata": {},
   "source": [
    "# Купля-продажа (авто, квартира и пр.)"
   ]
  },
  {
   "cell_type": "code",
   "execution_count": 14,
   "metadata": {},
   "outputs": [
    {
     "name": "stdout",
     "output_type": "stream",
     "text": [
      "Файл сохранён: kodex/Статьи договора купли-продажи.pdf\n"
     ]
    }
   ],
   "source": [
    "from PyPDF2 import PdfReader, PdfWriter\n",
    "\n",
    "# Загрузка исходного PDF\n",
    "input_path = \"kodex/гк2.pdf\"\n",
    "reader = PdfReader(input_path)\n",
    "writer = PdfWriter()\n",
    "\n",
    "page_ranges = list(range(2, 16)) + list(range(36, 40))\n",
    "\n",
    "for i in page_ranges:\n",
    "    writer.add_page(reader.pages[i])\n",
    "\n",
    "# Сохранение результата\n",
    "output_path = \"kodex/Статьи договора купли-продажи.pdf\"\n",
    "with open(output_path, \"wb\") as output_pdf:\n",
    "    writer.write(output_pdf)\n",
    "\n",
    "print(f\"Файл сохранён: {output_path}\")"
   ]
  },
  {
   "cell_type": "markdown",
   "metadata": {},
   "source": [
    "# Аренда оборудования, спецтехники, машиноместа"
   ]
  },
  {
   "cell_type": "code",
   "execution_count": 15,
   "metadata": {},
   "outputs": [
    {
     "name": "stdout",
     "output_type": "stream",
     "text": [
      "Файл сохранён: kodex/Статьи договора аренды оборудования, спецтехники, машиноместа.pdf\n"
     ]
    }
   ],
   "source": [
    "from PyPDF2 import PdfReader, PdfWriter\n",
    "\n",
    "# Загрузка исходного PDF\n",
    "input_path = \"kodex/гк2.pdf\"\n",
    "reader = PdfReader(input_path)\n",
    "writer = PdfWriter()\n",
    "\n",
    "page_ranges = list(range(65, 68)) + list(range(71, 73))\n",
    "\n",
    "for i in page_ranges:\n",
    "    writer.add_page(reader.pages[i])\n",
    "\n",
    "# Сохранение результата\n",
    "output_path = \"kodex/Статьи договора аренды оборудования, спецтехники, машиноместа.pdf\"\n",
    "with open(output_path, \"wb\") as output_pdf:\n",
    "    writer.write(output_pdf)\n",
    "\n",
    "print(f\"Файл сохранён: {output_path}\")"
   ]
  },
  {
   "cell_type": "markdown",
   "metadata": {},
   "source": [
    "# Договор аренды квартиры / нежилого помещения / гаража / земли"
   ]
  },
  {
   "cell_type": "code",
   "execution_count": 20,
   "metadata": {},
   "outputs": [
    {
     "name": "stdout",
     "output_type": "stream",
     "text": [
      "Файл сохранён: kodex/Статьи договора аренды квартиры, нежилого помещения, гаража, земли.pdf\n"
     ]
    }
   ],
   "source": [
    "from PyPDF2 import PdfReader, PdfWriter\n",
    "\n",
    "writer = PdfWriter()\n",
    "\n",
    "# --- Обработка гк2.pdf ---\n",
    "reader_gk = PdfReader(\"kodex/гк2.pdf\")\n",
    "\n",
    "# Диапазоны: 606–624 и 673–687 (625 и 688 не включаются)\n",
    "gk_pages = list(range(54, 63)) + list(range(73, 79))\n",
    "\n",
    "for i in gk_pages:\n",
    "    writer.add_page(reader_gk.pages[i])\n",
    "\n",
    "# --- Обработка жк.pdf ---\n",
    "reader_zhk = PdfReader(\"kodex/жк.pdf\")\n",
    "\n",
    "# Страницы: 49, 60–61, 65 (62 не включается, т.к. range(60, 62))\n",
    "zhk_pages = list(range(70, 72)) + list(range(79, 81))\n",
    "\n",
    "for i in zhk_pages:\n",
    "    writer.add_page(reader_zhk.pages[i])\n",
    "\n",
    "# --- Сохранение результата ---\n",
    "output_path = \"kodex/Статьи договора аренды квартиры, нежилого помещения, гаража, земли.pdf\"\n",
    "with open(output_path, \"wb\") as output_pdf:\n",
    "    writer.write(output_pdf)\n",
    "\n",
    "print(f\"Файл сохранён: {output_path}\")"
   ]
  },
  {
   "cell_type": "code",
   "execution_count": 22,
   "metadata": {},
   "outputs": [
    {
     "name": "stdout",
     "output_type": "stream",
     "text": [
      "['Образец брачного контракта для лиц, вступающих в брак.pdf', 'Образец брачного договора с установлением режима раздельной собственности супругов как на имущество, приобретенное каждым из суп.pdf', 'Образец брачного договора с условием об изменении режима имущества, нажитого в период брака, и установлении режима раздельной собственности в отношении имущества, которое будет приобретено в будущем.pdf', 'Брачный договор_ доли и вклады на одного супруга.pdf', 'Образец брачного договора с условием об определении имущества, которое будет передано каждому из супругов в случае расторжения бр.pdf', 'Образец брачного договора с условием об изменении режима имущества, нажитого в период брака.pdf', 'Образец брачного договора для супругов, состоящих в браке, когда одному из супругов предоставляется право проживания в жилище вто.pdf', 'Образец брачного договора с установлением режима общей совместной собственности на отдельный вид имущества.pdf', 'Образец брачного договора для будущих супругов.pdf', 'Образец брачного договора (собственностью того из супругов, на имя которого оформлено).pdf', 'Образец брачного договора о разделе имущества и установлении раздельной собственности.pdf', 'Образец брачного договора для граждан, состоящих в браке.pdf', 'Образец брачного договора с установлением режима раздельной собственности супругов как на уже имеющееся у супругов, так и на буду.pdf', 'Образец брачного договора по условиям которого все имущество, приобретенное одним из Супругов до вступления в брак, а также во вре.pdf', 'Образец брачного договора с компенсацией, заключаемого между лицами, вступающими в брак.pdf', 'Образец брачного договора с установлением режима раздельной собственности на имущество одного из супругов.pdf', 'Образец брачного договора для супругов, намеревающихся в скором времени расторгнуть брак.pdf', 'Образец брачного договора для лиц, состоящих в браке; с условием о раздельной собственности на имущество, нажитое супругами до брака и проданное в браке; общий долг супругов делится между ними пополам.pdf', 'Образец брачного договора для случая, когда один из супругов является владельцем предприятия.pdf']\n"
     ]
    }
   ],
   "source": [
    "import os\n",
    "\n",
    "folder_path = \"data/Брачные договоры образцы и примеры\"\n",
    "\n",
    "# Получение списка всех файлов в папке\n",
    "file_list = os.listdir(folder_path)\n",
    "\n",
    "# Отфильтровать только файлы (исключить папки)\n",
    "file_list = [f for f in file_list if os.path.isfile(os.path.join(folder_path, f))]\n",
    "\n",
    "print(file_list)"
   ]
  },
  {
   "cell_type": "code",
   "execution_count": null,
   "metadata": {},
   "outputs": [],
   "source": []
  }
 ],
 "metadata": {
  "kernelspec": {
   "display_name": "phoenix-env",
   "language": "python",
   "name": "python3"
  },
  "language_info": {
   "codemirror_mode": {
    "name": "ipython",
    "version": 3
   },
   "file_extension": ".py",
   "mimetype": "text/x-python",
   "name": "python",
   "nbconvert_exporter": "python",
   "pygments_lexer": "ipython3",
   "version": "3.10.17"
  }
 },
 "nbformat": 4,
 "nbformat_minor": 2
}
